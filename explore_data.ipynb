{
 "cells": [
  {
   "cell_type": "code",
   "execution_count": 67,
   "metadata": {},
   "outputs": [],
   "source": [
    "from pyspark.sql.types import StructType, StructField\n",
    "from pyspark.sql.types import DoubleType, IntegerType, StringType\n",
    "from pyspark.sql import SparkSession\n",
    "spark = SparkSession.builder.appName(\"demo\").getOrCreate()\n",
    "import matplotlib.pyplot as plt"
   ]
  },
  {
   "cell_type": "code",
   "execution_count": 62,
   "metadata": {
    "scrolled": true
   },
   "outputs": [
    {
     "name": "stdout",
     "output_type": "stream",
     "text": [
      "Table ratings:\n",
      "+---+------+-------+------+---------+\n",
      "| Id|userId|movieId|rating|timestamp|\n",
      "+---+------+-------+------+---------+\n",
      "|  0|     1|   1193|   5.0|978300760|\n",
      "|  1|     1|    661|   3.0|978302109|\n",
      "|  2|     1|    914|   3.0|978301968|\n",
      "|  3|     1|   3408|   4.0|978300275|\n",
      "|  4|     1|   2355|   5.0|978824291|\n",
      "|  5|     1|   1197|   3.0|978302268|\n",
      "|  6|     1|   1287|   5.0|978302039|\n",
      "|  7|     1|   2804|   5.0|978300719|\n",
      "|  8|     1|    594|   4.0|978302268|\n",
      "|  9|     1|    919|   4.0|978301368|\n",
      "| 10|     1|    595|   5.0|978824268|\n",
      "| 11|     1|    938|   4.0|978301752|\n",
      "| 12|     1|   2398|   4.0|978302281|\n",
      "| 13|     1|   2918|   4.0|978302124|\n",
      "| 14|     1|   1035|   5.0|978301753|\n",
      "| 15|     1|   2791|   4.0|978302188|\n",
      "| 16|     1|   2687|   3.0|978824268|\n",
      "| 17|     1|   2018|   4.0|978301777|\n",
      "| 18|     1|   3105|   5.0|978301713|\n",
      "| 19|     1|   2797|   4.0|978302039|\n",
      "+---+------+-------+------+---------+\n",
      "only showing top 20 rows\n",
      "\n"
     ]
    }
   ],
   "source": [
    "schema_ratings = StructType([\n",
    "    StructField(\"Id\",IntegerType()),\n",
    "    StructField(\"userId\",IntegerType()),\n",
    "    StructField(\"movieId\", IntegerType()),\n",
    "    StructField(\"rating\", DoubleType()),\n",
    "    StructField(\"timestamp\",StringType())    \n",
    "])\n",
    "ratings_df = spark.read.format(\"csv\").option(\"header\", \"true\").schema(schema_ratings).load(\"file:////home/nhatthanh123bk/Desktop/app/data/ratings.csv\")\n",
    "print(\"Table ratings:\")\n",
    "ratings_df.show()\n"
   ]
  },
  {
   "cell_type": "code",
   "execution_count": 59,
   "metadata": {},
   "outputs": [
    {
     "name": "stdout",
     "output_type": "stream",
     "text": [
      "('Total number of ratings: ', 1000209)\n",
      "('Total number of people participating in the ratings:', 6040)\n",
      "('Total number of movies:', 3706)\n"
     ]
    }
   ],
   "source": [
    "print(\"Total number of ratings: \",ratings_df.count())\n",
    "print(\"Total number of people participating in the ratings:\",ratings_df.select(\"userId\").distinct().count())\n",
    "print(\"Total number of movies:\",ratings_df.select(\"movieId\").distinct().count())"
   ]
  },
  {
   "cell_type": "code",
   "execution_count": 98,
   "metadata": {
    "scrolled": true
   },
   "outputs": [
    {
     "name": "stdout",
     "output_type": "stream",
     "text": [
      "Rating probability distribution table.\n"
     ]
    },
    {
     "data": {
      "text/html": [
       "<div>\n",
       "<style scoped>\n",
       "    .dataframe tbody tr th:only-of-type {\n",
       "        vertical-align: middle;\n",
       "    }\n",
       "\n",
       "    .dataframe tbody tr th {\n",
       "        vertical-align: top;\n",
       "    }\n",
       "\n",
       "    .dataframe thead th {\n",
       "        text-align: right;\n",
       "    }\n",
       "</style>\n",
       "<table border=\"1\" class=\"dataframe\">\n",
       "  <thead>\n",
       "    <tr style=\"text-align: right;\">\n",
       "      <th></th>\n",
       "      <th>rating</th>\n",
       "      <th>count</th>\n",
       "    </tr>\n",
       "  </thead>\n",
       "  <tbody>\n",
       "    <tr>\n",
       "      <th>0</th>\n",
       "      <td>1.0</td>\n",
       "      <td>56174</td>\n",
       "    </tr>\n",
       "    <tr>\n",
       "      <th>1</th>\n",
       "      <td>2.0</td>\n",
       "      <td>107557</td>\n",
       "    </tr>\n",
       "    <tr>\n",
       "      <th>2</th>\n",
       "      <td>5.0</td>\n",
       "      <td>226310</td>\n",
       "    </tr>\n",
       "    <tr>\n",
       "      <th>3</th>\n",
       "      <td>3.0</td>\n",
       "      <td>261197</td>\n",
       "    </tr>\n",
       "    <tr>\n",
       "      <th>4</th>\n",
       "      <td>4.0</td>\n",
       "      <td>348971</td>\n",
       "    </tr>\n",
       "  </tbody>\n",
       "</table>\n",
       "</div>"
      ],
      "text/plain": [
       "   rating   count\n",
       "0     1.0   56174\n",
       "1     2.0  107557\n",
       "2     5.0  226310\n",
       "3     3.0  261197\n",
       "4     4.0  348971"
      ]
     },
     "execution_count": 98,
     "metadata": {},
     "output_type": "execute_result"
    },
    {
     "data": {
      "image/png": "[encoded data removed]",
      "text/plain": [
       "<Figure size 432x288 with 1 Axes>"
      ]
     },
     "metadata": {
      "needs_background": "light"
     },
     "output_type": "display_data"
    }
   ],
   "source": [
    "print(\"Rating probability distribution table.\")\n",
    "distribution_rating = ratings_df.groupby(\"rating\").count().sort(\"count\")\n",
    "dr = distribution_rating.toPandas()\n",
    "dr.plot(x=\"rating\",y=\"count\",kind='bar')\n",
    "dr"
   ]
  },
  {
   "cell_type": "code",
   "execution_count": 74,
   "metadata": {},
   "outputs": [
    {
     "name": "stdout",
     "output_type": "stream",
     "text": [
      "On average, each participant rated 165 films.\n",
      "+-------+------------------+\n",
      "|summary|             count|\n",
      "+-------+------------------+\n",
      "|  count|              6040|\n",
      "|   mean| 165.5975165562914|\n",
      "| stddev|192.74702906977777|\n",
      "|    min|                20|\n",
      "|    max|              2314|\n",
      "+-------+------------------+\n",
      "\n"
     ]
    }
   ],
   "source": [
    "print(\"On average, each participant rated 165 films.\")\n",
    "ratings_df.groupby(\"userId\").count().describe(\"count\").show()"
   ]
  },
  {
   "cell_type": "code",
   "execution_count": 80,
   "metadata": {
    "scrolled": false
   },
   "outputs": [
    {
     "name": "stdout",
     "output_type": "stream",
     "text": [
      "+---+-------+--------------------+--------------------+\n",
      "| Id|movieId|               title|              genres|\n",
      "+---+-------+--------------------+--------------------+\n",
      "|  0|      1|    Toy Story (1995)|Animation|Childre...|\n",
      "|  1|      2|      Jumanji (1995)|Adventure|Childre...|\n",
      "|  2|      3|Grumpier Old Men ...|      Comedy|Romance|\n",
      "|  3|      4|Waiting to Exhale...|        Comedy|Drama|\n",
      "|  4|      5|Father of the Bri...|              Comedy|\n",
      "|  5|      6|         Heat (1995)|Action|Crime|Thri...|\n",
      "|  6|      7|      Sabrina (1995)|      Comedy|Romance|\n",
      "|  7|      8| Tom and Huck (1995)|Adventure|Children's|\n",
      "|  8|      9| Sudden Death (1995)|              Action|\n",
      "|  9|     10|    GoldenEye (1995)|Action|Adventure|...|\n",
      "+---+-------+--------------------+--------------------+\n",
      "only showing top 10 rows\n",
      "\n"
     ]
    }
   ],
   "source": [
    "schema_movies = StructType([\n",
    "    StructField(\"Id\",IntegerType()),\n",
    "    StructField(\"movieId\",IntegerType()),\n",
    "    StructField(\"title\",StringType()),\n",
    "    StructField(\"genres\",StringType())    \n",
    "])\n",
    "movies_df = spark.read.format(\"csv\").option(\"header\", \"true\").schema(schema_movies).load(\"file:////home/nhatthanh123bk/Desktop/app/data/movies.csv\")\n",
    "movies_df.show(10)"
   ]
  },
  {
   "cell_type": "code",
   "execution_count": 81,
   "metadata": {
    "scrolled": false
   },
   "outputs": [
    {
     "name": "stdout",
     "output_type": "stream",
     "text": [
      "+---+-------+--------------------+--------------------+\n",
      "| Id|movieId|               title|              genres|\n",
      "+---+-------+--------------------+--------------------+\n",
      "|  0|      1|    Toy Story (1995)|[Animation, Child...|\n",
      "|  1|      2|      Jumanji (1995)|[Adventure, Child...|\n",
      "|  2|      3|Grumpier Old Men ...|   [Comedy, Romance]|\n",
      "|  3|      4|Waiting to Exhale...|     [Comedy, Drama]|\n",
      "|  4|      5|Father of the Bri...|            [Comedy]|\n",
      "|  5|      6|         Heat (1995)|[Action, Crime, T...|\n",
      "|  6|      7|      Sabrina (1995)|   [Comedy, Romance]|\n",
      "|  7|      8| Tom and Huck (1995)|[Adventure, Child...|\n",
      "|  8|      9| Sudden Death (1995)|            [Action]|\n",
      "|  9|     10|    GoldenEye (1995)|[Action, Adventur...|\n",
      "| 10|     11|American Presiden...|[Comedy, Drama, R...|\n",
      "| 11|     12|Dracula: Dead and...|    [Comedy, Horror]|\n",
      "| 12|     13|        Balto (1995)|[Animation, Child...|\n",
      "| 13|     14|        Nixon (1995)|             [Drama]|\n",
      "| 14|     15|Cutthroat Island ...|[Action, Adventur...|\n",
      "| 15|     16|       Casino (1995)|   [Drama, Thriller]|\n",
      "| 16|     17|Sense and Sensibi...|    [Drama, Romance]|\n",
      "| 17|     18|   Four Rooms (1995)|          [Thriller]|\n",
      "| 18|     19|Ace Ventura: When...|            [Comedy]|\n",
      "| 19|     20|  Money Train (1995)|            [Action]|\n",
      "+---+-------+--------------------+--------------------+\n",
      "only showing top 20 rows\n",
      "\n"
     ]
    }
   ],
   "source": [
    "from pyspark.sql import functions as F\n",
    "genres = F.split(movies_df[\"genres\"],\"\\|\")\n",
    "movies_df = movies_df.withColumn(\"genres\",genres)\n",
    "movies_df.show()"
   ]
  },
  {
   "cell_type": "code",
   "execution_count": 91,
   "metadata": {
    "scrolled": true
   },
   "outputs": [
    {
     "data": {
      "text/html": [
       "<div>\n",
       "<style scoped>\n",
       "    .dataframe tbody tr th:only-of-type {\n",
       "        vertical-align: middle;\n",
       "    }\n",
       "\n",
       "    .dataframe tbody tr th {\n",
       "        vertical-align: top;\n",
       "    }\n",
       "\n",
       "    .dataframe thead th {\n",
       "        text-align: right;\n",
       "    }\n",
       "</style>\n",
       "<table border=\"1\" class=\"dataframe\">\n",
       "  <thead>\n",
       "    <tr style=\"text-align: right;\">\n",
       "      <th></th>\n",
       "      <th>genres</th>\n",
       "      <th>count</th>\n",
       "    </tr>\n",
       "  </thead>\n",
       "  <tbody>\n",
       "    <tr>\n",
       "      <th>0</th>\n",
       "      <td>Mystery</td>\n",
       "      <td>106</td>\n",
       "    </tr>\n",
       "    <tr>\n",
       "      <th>1</th>\n",
       "      <td>Romance</td>\n",
       "      <td>471</td>\n",
       "    </tr>\n",
       "    <tr>\n",
       "      <th>2</th>\n",
       "      <td>Sci-Fi</td>\n",
       "      <td>276</td>\n",
       "    </tr>\n",
       "    <tr>\n",
       "      <th>3</th>\n",
       "      <td>Children's</td>\n",
       "      <td>251</td>\n",
       "    </tr>\n",
       "    <tr>\n",
       "      <th>4</th>\n",
       "      <td>Horror</td>\n",
       "      <td>343</td>\n",
       "    </tr>\n",
       "    <tr>\n",
       "      <th>5</th>\n",
       "      <td>Film-Noir</td>\n",
       "      <td>44</td>\n",
       "    </tr>\n",
       "    <tr>\n",
       "      <th>6</th>\n",
       "      <td>Crime</td>\n",
       "      <td>211</td>\n",
       "    </tr>\n",
       "    <tr>\n",
       "      <th>7</th>\n",
       "      <td>Drama</td>\n",
       "      <td>1603</td>\n",
       "    </tr>\n",
       "    <tr>\n",
       "      <th>8</th>\n",
       "      <td>Fantasy</td>\n",
       "      <td>68</td>\n",
       "    </tr>\n",
       "    <tr>\n",
       "      <th>9</th>\n",
       "      <td>Animation</td>\n",
       "      <td>105</td>\n",
       "    </tr>\n",
       "    <tr>\n",
       "      <th>10</th>\n",
       "      <td>War</td>\n",
       "      <td>143</td>\n",
       "    </tr>\n",
       "    <tr>\n",
       "      <th>11</th>\n",
       "      <td>Adventure</td>\n",
       "      <td>283</td>\n",
       "    </tr>\n",
       "    <tr>\n",
       "      <th>12</th>\n",
       "      <td>Action</td>\n",
       "      <td>503</td>\n",
       "    </tr>\n",
       "    <tr>\n",
       "      <th>13</th>\n",
       "      <td>Comedy</td>\n",
       "      <td>1200</td>\n",
       "    </tr>\n",
       "    <tr>\n",
       "      <th>14</th>\n",
       "      <td>Documentary</td>\n",
       "      <td>127</td>\n",
       "    </tr>\n",
       "    <tr>\n",
       "      <th>15</th>\n",
       "      <td>Musical</td>\n",
       "      <td>114</td>\n",
       "    </tr>\n",
       "    <tr>\n",
       "      <th>16</th>\n",
       "      <td>Thriller</td>\n",
       "      <td>492</td>\n",
       "    </tr>\n",
       "    <tr>\n",
       "      <th>17</th>\n",
       "      <td>Western</td>\n",
       "      <td>68</td>\n",
       "    </tr>\n",
       "  </tbody>\n",
       "</table>\n",
       "</div>"
      ],
      "text/plain": [
       "         genres  count\n",
       "0       Mystery    106\n",
       "1       Romance    471\n",
       "2        Sci-Fi    276\n",
       "3    Children's    251\n",
       "4        Horror    343\n",
       "5     Film-Noir     44\n",
       "6         Crime    211\n",
       "7         Drama   1603\n",
       "8       Fantasy     68\n",
       "9     Animation    105\n",
       "10          War    143\n",
       "11    Adventure    283\n",
       "12       Action    503\n",
       "13       Comedy   1200\n",
       "14  Documentary    127\n",
       "15      Musical    114\n",
       "16     Thriller    492\n",
       "17      Western     68"
      ]
     },
     "execution_count": 91,
     "metadata": {},
     "output_type": "execute_result"
    },
    {
     "data": {
      "image/png": "[encoded data removed]",
      "text/plain": [
       "<Figure size 432x288 with 1 Axes>"
      ]
     },
     "metadata": {
      "needs_background": "light"
     },
     "output_type": "display_data"
    }
   ],
   "source": [
    "genres_df = movies_df.select(\"genres\")\n",
    "genres_rdd = genres_df.rdd.flatMap(lambda a: [(w,1) for w in a.genres]).reduceByKey(lambda a,b: a+b)\n",
    "genres_df = spark.createDataFrame(genres_rdd,[\"genres\",\"count\"])\n",
    "genres_df.toPandas().plot(x = \"genres\",y = \"count\",kind='bar')\n",
    "genres_df.toPandas()"
   ]
  },
  {
   "cell_type": "code",
   "execution_count": 99,
   "metadata": {
    "scrolled": true
   },
   "outputs": [
    {
     "ename": "AnalysisException",
     "evalue": "u'Resolved attribute(s) genres#1970 missing from userId#1229,movieId#1230,rating#1231,Id#1228,timestamp#1232 in operator !Project [Id#1228, userId#1229, movieId#1230, rating#1231, timestamp#1232, genres#1970 AS genres#2196].;;\\n!Project [Id#1228, userId#1229, movieId#1230, rating#1231, timestamp#1232, genres#1970 AS genres#2196]\\n+- Relation[Id#1228,userId#1229,movieId#1230,rating#1231,timestamp#1232] csv\\n'",
     "output_type": "error",
     "traceback": [
      "\u001b[0;31m---------------------------------------------------------------------------\u001b[0m",
      "\u001b[0;31mAnalysisException\u001b[0m                         Traceback (most recent call last)",
      "\u001b[0;32m<ipython-input-99-1538a5ef6976>\u001b[0m in \u001b[0;36m<module>\u001b[0;34m()\u001b[0m\n\u001b[0;32m----> 1\u001b[0;31m \u001b[0mratings_df\u001b[0m\u001b[0;34m.\u001b[0m\u001b[0mwithColumn\u001b[0m\u001b[0;34m(\u001b[0m\u001b[0;34m\"genres\"\u001b[0m\u001b[0;34m,\u001b[0m\u001b[0mmovies_df\u001b[0m\u001b[0;34m[\u001b[0m\u001b[0;34m\"genres\"\u001b[0m\u001b[0;34m]\u001b[0m\u001b[0;34m)\u001b[0m\u001b[0;34m\u001b[0m\u001b[0;34m\u001b[0m\u001b[0m\n\u001b[0m",
      "\u001b[0;32m/home/nhatthanh123bk/Desktop/hadoop/spark/python/pyspark/sql/dataframe.pyc\u001b[0m in \u001b[0;36mwithColumn\u001b[0;34m(self, colName, col)\u001b[0m\n\u001b[1;32m   1987\u001b[0m         \"\"\"\n\u001b[1;32m   1988\u001b[0m         \u001b[0;32massert\u001b[0m \u001b[0misinstance\u001b[0m\u001b[0;34m(\u001b[0m\u001b[0mcol\u001b[0m\u001b[0;34m,\u001b[0m \u001b[0mColumn\u001b[0m\u001b[0;34m)\u001b[0m\u001b[0;34m,\u001b[0m \u001b[0;34m\"col should be Column\"\u001b[0m\u001b[0;34m\u001b[0m\u001b[0;34m\u001b[0m\u001b[0m\n\u001b[0;32m-> 1989\u001b[0;31m         \u001b[0;32mreturn\u001b[0m \u001b[0mDataFrame\u001b[0m\u001b[0;34m(\u001b[0m\u001b[0mself\u001b[0m\u001b[0;34m.\u001b[0m\u001b[0m_jdf\u001b[0m\u001b[0;34m.\u001b[0m\u001b[0mwithColumn\u001b[0m\u001b[0;34m(\u001b[0m\u001b[0mcolName\u001b[0m\u001b[0;34m,\u001b[0m \u001b[0mcol\u001b[0m\u001b[0;34m.\u001b[0m\u001b[0m_jc\u001b[0m\u001b[0;34m)\u001b[0m\u001b[0;34m,\u001b[0m \u001b[0mself\u001b[0m\u001b[0;34m.\u001b[0m\u001b[0msql_ctx\u001b[0m\u001b[0;34m)\u001b[0m\u001b[0;34m\u001b[0m\u001b[0;34m\u001b[0m\u001b[0m\n\u001b[0m\u001b[1;32m   1990\u001b[0m \u001b[0;34m\u001b[0m\u001b[0m\n\u001b[1;32m   1991\u001b[0m     \u001b[0;34m@\u001b[0m\u001b[0mignore_unicode_prefix\u001b[0m\u001b[0;34m\u001b[0m\u001b[0;34m\u001b[0m\u001b[0m\n",
      "\u001b[0;32m/home/nhatthanh123bk/Desktop/hadoop/spark/python/lib/py4j-0.10.7-src.zip/py4j/java_gateway.py\u001b[0m in \u001b[0;36m__call__\u001b[0;34m(self, *args)\u001b[0m\n\u001b[1;32m   1255\u001b[0m         \u001b[0manswer\u001b[0m \u001b[0;34m=\u001b[0m \u001b[0mself\u001b[0m\u001b[0;34m.\u001b[0m\u001b[0mgateway_client\u001b[0m\u001b[0;34m.\u001b[0m\u001b[0msend_command\u001b[0m\u001b[0;34m(\u001b[0m\u001b[0mcommand\u001b[0m\u001b[0;34m)\u001b[0m\u001b[0;34m\u001b[0m\u001b[0;34m\u001b[0m\u001b[0m\n\u001b[1;32m   1256\u001b[0m         return_value = get_return_value(\n\u001b[0;32m-> 1257\u001b[0;31m             answer, self.gateway_client, self.target_id, self.name)\n\u001b[0m\u001b[1;32m   1258\u001b[0m \u001b[0;34m\u001b[0m\u001b[0m\n\u001b[1;32m   1259\u001b[0m         \u001b[0;32mfor\u001b[0m \u001b[0mtemp_arg\u001b[0m \u001b[0;32min\u001b[0m \u001b[0mtemp_args\u001b[0m\u001b[0;34m:\u001b[0m\u001b[0;34m\u001b[0m\u001b[0;34m\u001b[0m\u001b[0m\n",
      "\u001b[0;32m/home/nhatthanh123bk/Desktop/hadoop/spark/python/pyspark/sql/utils.pyc\u001b[0m in \u001b[0;36mdeco\u001b[0;34m(*a, **kw)\u001b[0m\n\u001b[1;32m     67\u001b[0m                                              e.java_exception.getStackTrace()))\n\u001b[1;32m     68\u001b[0m             \u001b[0;32mif\u001b[0m \u001b[0ms\u001b[0m\u001b[0;34m.\u001b[0m\u001b[0mstartswith\u001b[0m\u001b[0;34m(\u001b[0m\u001b[0;34m'org.apache.spark.sql.AnalysisException: '\u001b[0m\u001b[0;34m)\u001b[0m\u001b[0;34m:\u001b[0m\u001b[0;34m\u001b[0m\u001b[0;34m\u001b[0m\u001b[0m\n\u001b[0;32m---> 69\u001b[0;31m                 \u001b[0;32mraise\u001b[0m \u001b[0mAnalysisException\u001b[0m\u001b[0;34m(\u001b[0m\u001b[0ms\u001b[0m\u001b[0;34m.\u001b[0m\u001b[0msplit\u001b[0m\u001b[0;34m(\u001b[0m\u001b[0;34m': '\u001b[0m\u001b[0;34m,\u001b[0m \u001b[0;36m1\u001b[0m\u001b[0;34m)\u001b[0m\u001b[0;34m[\u001b[0m\u001b[0;36m1\u001b[0m\u001b[0;34m]\u001b[0m\u001b[0;34m,\u001b[0m \u001b[0mstackTrace\u001b[0m\u001b[0;34m)\u001b[0m\u001b[0;34m\u001b[0m\u001b[0;34m\u001b[0m\u001b[0m\n\u001b[0m\u001b[1;32m     70\u001b[0m             \u001b[0;32mif\u001b[0m \u001b[0ms\u001b[0m\u001b[0;34m.\u001b[0m\u001b[0mstartswith\u001b[0m\u001b[0;34m(\u001b[0m\u001b[0;34m'org.apache.spark.sql.catalyst.analysis'\u001b[0m\u001b[0;34m)\u001b[0m\u001b[0;34m:\u001b[0m\u001b[0;34m\u001b[0m\u001b[0;34m\u001b[0m\u001b[0m\n\u001b[1;32m     71\u001b[0m                 \u001b[0;32mraise\u001b[0m \u001b[0mAnalysisException\u001b[0m\u001b[0;34m(\u001b[0m\u001b[0ms\u001b[0m\u001b[0;34m.\u001b[0m\u001b[0msplit\u001b[0m\u001b[0;34m(\u001b[0m\u001b[0;34m': '\u001b[0m\u001b[0;34m,\u001b[0m \u001b[0;36m1\u001b[0m\u001b[0;34m)\u001b[0m\u001b[0;34m[\u001b[0m\u001b[0;36m1\u001b[0m\u001b[0;34m]\u001b[0m\u001b[0;34m,\u001b[0m \u001b[0mstackTrace\u001b[0m\u001b[0;34m)\u001b[0m\u001b[0;34m\u001b[0m\u001b[0;34m\u001b[0m\u001b[0m\n",
      "\u001b[0;31mAnalysisException\u001b[0m: u'Resolved attribute(s) genres#1970 missing from userId#1229,movieId#1230,rating#1231,Id#1228,timestamp#1232 in operator !Project [Id#1228, userId#1229, movieId#1230, rating#1231, timestamp#1232, genres#1970 AS genres#2196].;;\\n!Project [Id#1228, userId#1229, movieId#1230, rating#1231, timestamp#1232, genres#1970 AS genres#2196]\\n+- Relation[Id#1228,userId#1229,movieId#1230,rating#1231,timestamp#1232] csv\\n'"
     ]
    }
   ],
   "source": [
    "ratings_df.select('*',movie)"
   ]
  }
 ],
 "metadata": {
  "kernelspec": {
   "display_name": "Python 2",
   "language": "python",
   "name": "python2"
  },
  "language_info": {
   "codemirror_mode": {
    "name": "ipython",
    "version": 2
   },
   "file_extension": ".py",
   "mimetype": "text/x-python",
   "name": "python",
   "nbconvert_exporter": "python",
   "pygments_lexer": "ipython2",
   "version": "2.7.15+"
  }
 },
 "nbformat": 4,
 "nbformat_minor": 2
}

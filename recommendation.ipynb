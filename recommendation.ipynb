{
 "cells": [
  {
   "cell_type": "code",
   "execution_count": 69,
   "metadata": {},
   "outputs": [],
   "source": [
    "from pyspark.sql.types import StructType, StructField\n",
    "from pyspark.sql.types import DoubleType, IntegerType, StringType\n",
    "from pyspark.sql import SparkSession\n",
    "spark = SparkSession.builder.appName(\"demo\").getOrCreate()"
   ]
  },
  {
   "cell_type": "code",
   "execution_count": 117,
   "metadata": {},
   "outputs": [
    {
     "name": "stdout",
     "output_type": "stream",
     "text": [
      "+---+------+-------+------+---------+\n",
      "| Id|userId|movieId|rating|timestamp|\n",
      "+---+------+-------+------+---------+\n",
      "|  0|     1|   1193|   5.0|978300760|\n",
      "|  1|     1|    661|   3.0|978302109|\n",
      "|  2|     1|    914|   3.0|978301968|\n",
      "|  3|     1|   3408|   4.0|978300275|\n",
      "|  4|     1|   2355|   5.0|978824291|\n",
      "|  5|     1|   1197|   3.0|978302268|\n",
      "|  6|     1|   1287|   5.0|978302039|\n",
      "|  7|     1|   2804|   5.0|978300719|\n",
      "|  8|     1|    594|   4.0|978302268|\n",
      "|  9|     1|    919|   4.0|978301368|\n",
      "+---+------+-------+------+---------+\n",
      "only showing top 10 rows\n",
      "\n",
      "root\n",
      " |-- Id: integer (nullable = true)\n",
      " |-- userId: integer (nullable = true)\n",
      " |-- movieId: integer (nullable = true)\n",
      " |-- rating: float (nullable = true)\n",
      " |-- timestamp: string (nullable = true)\n",
      "\n"
     ]
    }
   ],
   "source": [
    "schema_ratings = StructType([\n",
    "    StructField(\"Id\",IntegerType()),\n",
    "    StructField(\"userId\",IntegerType()),\n",
    "    StructField(\"movieId\", IntegerType()),\n",
    "    StructField(\"rating\", FloatType()),\n",
    "    StructField(\"timestamp\",StringType())    \n",
    "])\n",
    "ratings_df = spark.read.format(\"csv\").option(\"header\", \"true\").schema(schema_ratings).load(\"file:////home/nhatthanh123bk/Desktop/app/data/ratings.csv\")\n",
    "ratings_df.show(10)\n",
    "ratings_df.printSchema()"
   ]
  },
  {
   "cell_type": "code",
   "execution_count": 93,
   "metadata": {},
   "outputs": [],
   "source": [
    "from pyspark.ml.recommendation import ALS, ALSModel\n",
    "from pyspark.ml.evaluation import RegressionEvaluator"
   ]
  },
  {
   "cell_type": "code",
   "execution_count": 94,
   "metadata": {},
   "outputs": [],
   "source": [
    "ratings = ratings_df.select(\"userId\",\"movieId\",\"rating\").cache()"
   ]
  },
  {
   "cell_type": "code",
   "execution_count": 95,
   "metadata": {},
   "outputs": [
    {
     "name": "stdout",
     "output_type": "stream",
     "text": [
      "root\n",
      " |-- userId: integer (nullable = true)\n",
      " |-- movieId: integer (nullable = true)\n",
      " |-- rating: float (nullable = true)\n",
      "\n"
     ]
    }
   ],
   "source": [
    "ratings.printSchema()"
   ]
  },
  {
   "cell_type": "code",
   "execution_count": 112,
   "metadata": {},
   "outputs": [],
   "source": [
    "training_data,testing_data = ratings.randomSplit([0.8,0.2])\n",
    "training_data.write.csv('file:////home/nhatthanh123bk/Desktop/app/data/training_data.csv')\n",
    "testing_data.write.csv('file:////home/nhatthanh123bk/Desktop/app/data/testing.csv')"
   ]
  },
  {
   "cell_type": "code",
   "execution_count": 116,
   "metadata": {},
   "outputs": [],
   "source": [
    "training_data = spark.read.format(\"csv\").load(\"file:////home/nhatthanh123bk/Desktop/app/data/training_data.csv\")\n"
   ]
  },
  {
   "cell_type": "code",
   "execution_count": 108,
   "metadata": {},
   "outputs": [
    {
     "name": "stdout",
     "output_type": "stream",
     "text": [
      "Root-mean-square error = 0.889243228137\n"
     ]
    }
   ],
   "source": [
    "als = ALS(rank=10,maxIter=10, regParam=0.01, \n",
    "          userCol=\"userId\", itemCol=\"movieId\", ratingCol=\"rating\",\n",
    "          coldStartStrategy=\"drop\",\n",
    "          implicitPrefs=False)\n",
    "model = als.fit(training_data)\n",
    "predictions = model.transform(testing_data)\n",
    "evaluator = RegressionEvaluator(metricName=\"rmse\", labelCol=\"rating\",\n",
    "                                predictionCol=\"prediction\")\n",
    "rmse = evaluator.evaluate(predictions)\n",
    "print(\"Root-mean-square error = \" + str(rmse))"
   ]
  }
 ],
 "metadata": {
  "kernelspec": {
   "display_name": "Python 2",
   "language": "python",
   "name": "python2"
  },
  "language_info": {
   "codemirror_mode": {
    "name": "ipython",
    "version": 2
   },
   "file_extension": ".py",
   "mimetype": "text/x-python",
   "name": "python",
   "nbconvert_exporter": "python",
   "pygments_lexer": "ipython2",
   "version": "2.7.15+"
  }
 },
 "nbformat": 4,
 "nbformat_minor": 2
}
